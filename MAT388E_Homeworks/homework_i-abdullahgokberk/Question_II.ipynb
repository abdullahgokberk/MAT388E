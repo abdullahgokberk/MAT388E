{
 "cells": [
  {
   "attachments": {},
   "cell_type": "markdown",
   "id": "cfb58de6",
   "metadata": {},
   "source": [
    "# Task 2\n",
    "\n",
    "## Data Pre-processing\n",
    "\n",
    "**author:** \"Gökberk Abdullah\" \n",
    "\n",
    "**school number:** \"090170341\"\n",
    "\n",
    "**date:** \"March 20, 2023\""
   ]
  },
  {
   "cell_type": "markdown",
   "id": "99278f7d-96f7-4518-8e3a-94623c9d7d09",
   "metadata": {},
   "source": [
    "**Task 2:** Find a data set which is suitable for regression analysis and consists of a mix of numerical, nominal, and ordinal variables. Look for the cases, where at least one of the variable has missing values. If not, you can randomly delete a very small portion of one of the variables.\n",
    "Design a machine learning pipeline where you scale the numerical features and encode the nominal and ordinal features along with imputing the missing values.\n",
    "\n",
    "#### Instructions to follow:\n",
    "\n",
    "- Include all your codes here. Be sure that your code is CLEAN, READABLE, and REPRODUCIBLE.\n",
    "- Put your data set into a **datasets** folder.\n",
    "- Put your images (if available) into an **images** folder.\n",
    "- Please return a NICE and CLEAR homework. Otherwise, it will not be graded.\n",
    "- Please write YOUR OWN code. **DO NOT copy** my codes or someone else's codes."
   ]
  },
  {
   "attachments": {},
   "cell_type": "markdown",
   "id": "66f0f059-7831-4db6-8fd1-53ac25ce26d2",
   "metadata": {},
   "source": [
    "## Data Decription"
   ]
  },
  {
   "attachments": {},
   "cell_type": "markdown",
   "id": "745b4583",
   "metadata": {},
   "source": [
    "the \"Student Performance Data Set,\" also known as the \"Student Achievement Data Set,\" is an education data set that can be used to predict students' exam performance. The data set contains data that measures the performance of 1,000 students in math, reading, and writing exams.\n",
    "\n",
    "The data set contains a total of 8 variables:\n",
    "\n",
    "* \"gender\": the student's gender (male/female)\n",
    "* \"race/ethnicity\": the student's ethnic background (Group A, Group B, Group C, Group D, Group E)\n",
    "* \"parental level of education\": the education level of the student's parents\n",
    "* \"lunch\": whether the student participates in the school lunch program or not\n",
    "* \"test preparation course\": whether the student participates in a test preparation course or not\n",
    "* \"math score\": the student's score on the math exam (ranging from 0-100)\n",
    "* \"reading score\": the student's score on the reading exam (ranging from 0-100)\n",
    "* \"writing score\": the student's score on the writing exam (ranging from 0-100)\n",
    "\n",
    "In this data set, while the exam scores are numerical variables, other variables such as gender, ethnic background, parents' education level, lunch program participation, and test preparation course participation are nominal or ordinal variables.\n",
    "\n",
    "This data set can be used for various purposes in the field of education, including predicting exam performance, analyzing student performance, and developing exam policies, by researchers and teachers working in the education sector.I will predict the math score."
   ]
  },
  {
   "attachments": {},
   "cell_type": "markdown",
   "id": "4719524f",
   "metadata": {},
   "source": [
    "Let's import the necessary libraries:"
   ]
  },
  {
   "cell_type": "code",
   "execution_count": 42,
   "id": "2a55b563",
   "metadata": {},
   "outputs": [],
   "source": [
    "import pandas as pd\n",
    "import os\n",
    "import numpy as np\n",
    "from sklearn.model_selection import train_test_split\n",
    "from sklearn.compose import ColumnTransformer\n",
    "from sklearn.preprocessing import StandardScaler, OrdinalEncoder, OneHotEncoder\n",
    "from sklearn.pipeline import Pipeline\n",
    "from sklearn.impute import SimpleImputer\n",
    "from sklearn.metrics import mean_squared_error, r2_score\n",
    "from sklearn.ensemble import RandomForestRegressor"
   ]
  },
  {
   "attachments": {},
   "cell_type": "markdown",
   "id": "3f729fb5",
   "metadata": {},
   "source": [
    "Let's go to the datasets folder and read our data with the help of ```pandas``` library."
   ]
  },
  {
   "cell_type": "code",
   "execution_count": 43,
   "id": "70866d32",
   "metadata": {},
   "outputs": [
    {
     "data": {
      "text/html": [
       "<div>\n",
       "<style scoped>\n",
       "    .dataframe tbody tr th:only-of-type {\n",
       "        vertical-align: middle;\n",
       "    }\n",
       "\n",
       "    .dataframe tbody tr th {\n",
       "        vertical-align: top;\n",
       "    }\n",
       "\n",
       "    .dataframe thead th {\n",
       "        text-align: right;\n",
       "    }\n",
       "</style>\n",
       "<table border=\"1\" class=\"dataframe\">\n",
       "  <thead>\n",
       "    <tr style=\"text-align: right;\">\n",
       "      <th></th>\n",
       "      <th>gender</th>\n",
       "      <th>race/ethnicity</th>\n",
       "      <th>parental level of education</th>\n",
       "      <th>lunch</th>\n",
       "      <th>test preparation course</th>\n",
       "      <th>math score</th>\n",
       "      <th>reading score</th>\n",
       "      <th>writing score</th>\n",
       "    </tr>\n",
       "  </thead>\n",
       "  <tbody>\n",
       "    <tr>\n",
       "      <th>0</th>\n",
       "      <td>female</td>\n",
       "      <td>group B</td>\n",
       "      <td>bachelor's degree</td>\n",
       "      <td>standard</td>\n",
       "      <td>none</td>\n",
       "      <td>72</td>\n",
       "      <td>72</td>\n",
       "      <td>74</td>\n",
       "    </tr>\n",
       "    <tr>\n",
       "      <th>1</th>\n",
       "      <td>female</td>\n",
       "      <td>group C</td>\n",
       "      <td>some college</td>\n",
       "      <td>standard</td>\n",
       "      <td>completed</td>\n",
       "      <td>69</td>\n",
       "      <td>90</td>\n",
       "      <td>88</td>\n",
       "    </tr>\n",
       "    <tr>\n",
       "      <th>2</th>\n",
       "      <td>female</td>\n",
       "      <td>group B</td>\n",
       "      <td>master's degree</td>\n",
       "      <td>standard</td>\n",
       "      <td>none</td>\n",
       "      <td>90</td>\n",
       "      <td>95</td>\n",
       "      <td>93</td>\n",
       "    </tr>\n",
       "    <tr>\n",
       "      <th>3</th>\n",
       "      <td>male</td>\n",
       "      <td>group A</td>\n",
       "      <td>associate's degree</td>\n",
       "      <td>free/reduced</td>\n",
       "      <td>none</td>\n",
       "      <td>47</td>\n",
       "      <td>57</td>\n",
       "      <td>44</td>\n",
       "    </tr>\n",
       "    <tr>\n",
       "      <th>4</th>\n",
       "      <td>male</td>\n",
       "      <td>group C</td>\n",
       "      <td>some college</td>\n",
       "      <td>standard</td>\n",
       "      <td>none</td>\n",
       "      <td>76</td>\n",
       "      <td>78</td>\n",
       "      <td>75</td>\n",
       "    </tr>\n",
       "    <tr>\n",
       "      <th>...</th>\n",
       "      <td>...</td>\n",
       "      <td>...</td>\n",
       "      <td>...</td>\n",
       "      <td>...</td>\n",
       "      <td>...</td>\n",
       "      <td>...</td>\n",
       "      <td>...</td>\n",
       "      <td>...</td>\n",
       "    </tr>\n",
       "    <tr>\n",
       "      <th>995</th>\n",
       "      <td>female</td>\n",
       "      <td>group E</td>\n",
       "      <td>master's degree</td>\n",
       "      <td>standard</td>\n",
       "      <td>completed</td>\n",
       "      <td>88</td>\n",
       "      <td>99</td>\n",
       "      <td>95</td>\n",
       "    </tr>\n",
       "    <tr>\n",
       "      <th>996</th>\n",
       "      <td>male</td>\n",
       "      <td>group C</td>\n",
       "      <td>high school</td>\n",
       "      <td>free/reduced</td>\n",
       "      <td>none</td>\n",
       "      <td>62</td>\n",
       "      <td>55</td>\n",
       "      <td>55</td>\n",
       "    </tr>\n",
       "    <tr>\n",
       "      <th>997</th>\n",
       "      <td>female</td>\n",
       "      <td>group C</td>\n",
       "      <td>high school</td>\n",
       "      <td>free/reduced</td>\n",
       "      <td>completed</td>\n",
       "      <td>59</td>\n",
       "      <td>71</td>\n",
       "      <td>65</td>\n",
       "    </tr>\n",
       "    <tr>\n",
       "      <th>998</th>\n",
       "      <td>female</td>\n",
       "      <td>group D</td>\n",
       "      <td>some college</td>\n",
       "      <td>standard</td>\n",
       "      <td>completed</td>\n",
       "      <td>68</td>\n",
       "      <td>78</td>\n",
       "      <td>77</td>\n",
       "    </tr>\n",
       "    <tr>\n",
       "      <th>999</th>\n",
       "      <td>female</td>\n",
       "      <td>group D</td>\n",
       "      <td>some college</td>\n",
       "      <td>free/reduced</td>\n",
       "      <td>none</td>\n",
       "      <td>77</td>\n",
       "      <td>86</td>\n",
       "      <td>86</td>\n",
       "    </tr>\n",
       "  </tbody>\n",
       "</table>\n",
       "<p>1000 rows × 8 columns</p>\n",
       "</div>"
      ],
      "text/plain": [
       "     gender race/ethnicity parental level of education         lunch  \\\n",
       "0    female        group B           bachelor's degree      standard   \n",
       "1    female        group C                some college      standard   \n",
       "2    female        group B             master's degree      standard   \n",
       "3      male        group A          associate's degree  free/reduced   \n",
       "4      male        group C                some college      standard   \n",
       "..      ...            ...                         ...           ...   \n",
       "995  female        group E             master's degree      standard   \n",
       "996    male        group C                 high school  free/reduced   \n",
       "997  female        group C                 high school  free/reduced   \n",
       "998  female        group D                some college      standard   \n",
       "999  female        group D                some college  free/reduced   \n",
       "\n",
       "    test preparation course  math score  reading score  writing score  \n",
       "0                      none          72             72             74  \n",
       "1                 completed          69             90             88  \n",
       "2                      none          90             95             93  \n",
       "3                      none          47             57             44  \n",
       "4                      none          76             78             75  \n",
       "..                      ...         ...            ...            ...  \n",
       "995               completed          88             99             95  \n",
       "996                    none          62             55             55  \n",
       "997               completed          59             71             65  \n",
       "998               completed          68             78             77  \n",
       "999                    none          77             86             86  \n",
       "\n",
       "[1000 rows x 8 columns]"
      ]
     },
     "execution_count": 43,
     "metadata": {},
     "output_type": "execute_result"
    }
   ],
   "source": [
    "file_path = os.path.join(\"datasets\", \"StudentsPerformance.csv\")\n",
    "\n",
    "df = pd.read_csv(file_path)\n",
    "df"
   ]
  },
  {
   "cell_type": "code",
   "execution_count": 52,
   "id": "5ef556ee",
   "metadata": {},
   "outputs": [
    {
     "name": "stdout",
     "output_type": "stream",
     "text": [
      "<class 'pandas.core.frame.DataFrame'>\n",
      "RangeIndex: 1000 entries, 0 to 999\n",
      "Data columns (total 8 columns):\n",
      " #   Column                       Non-Null Count  Dtype \n",
      "---  ------                       --------------  ----- \n",
      " 0   gender                       1000 non-null   object\n",
      " 1   race/ethnicity               1000 non-null   object\n",
      " 2   parental level of education  1000 non-null   object\n",
      " 3   lunch                        1000 non-null   object\n",
      " 4   test preparation course      1000 non-null   object\n",
      " 5   math score                   1000 non-null   int64 \n",
      " 6   reading score                1000 non-null   int64 \n",
      " 7   writing score                1000 non-null   int64 \n",
      "dtypes: int64(3), object(5)\n",
      "memory usage: 62.6+ KB\n"
     ]
    }
   ],
   "source": [
    "df.info()"
   ]
  },
  {
   "attachments": {},
   "cell_type": "markdown",
   "id": "e108372f",
   "metadata": {},
   "source": [
    "Since there is no missing value in my data, I delete 10 random lines from the ```race/ethnicity``` column and 11 random lines from the ```parental level of education``` column.\n",
    "\n",
    "I deleted 10 from the ```writing score``` and 5 from the ```gender``` column."
   ]
  },
  {
   "cell_type": "code",
   "execution_count": 44,
   "id": "6c659991",
   "metadata": {},
   "outputs": [],
   "source": [
    "random_indices = np.random.choice(df['race/ethnicity'].index, size=10, replace=False)\n",
    "df.loc[random_indices, 'race/ethnicity'] = np.nan"
   ]
  },
  {
   "cell_type": "code",
   "execution_count": 45,
   "id": "4272f290",
   "metadata": {},
   "outputs": [],
   "source": [
    "random_indices = np.random.choice(df['parental level of education'].index, size=11, replace=False)\n",
    "df.loc[random_indices, 'parental level of education'] = np.nan"
   ]
  },
  {
   "cell_type": "code",
   "execution_count": 46,
   "id": "ffeeda7c",
   "metadata": {},
   "outputs": [],
   "source": [
    "random_indices = np.random.choice(df['writing score'].index, size=10, replace=False)\n",
    "df.loc[random_indices, 'writing score'] = np.nan"
   ]
  },
  {
   "cell_type": "code",
   "execution_count": 47,
   "id": "a6225f41",
   "metadata": {},
   "outputs": [],
   "source": [
    "random_indices = np.random.choice(df['gender'].index, size=5, replace=False)\n",
    "df.loc[random_indices, 'gender'] = np.nan"
   ]
  },
  {
   "cell_type": "code",
   "execution_count": 48,
   "id": "a3d9aace",
   "metadata": {},
   "outputs": [
    {
     "data": {
      "text/plain": [
       "gender                          5\n",
       "race/ethnicity                 10\n",
       "parental level of education    11\n",
       "lunch                           0\n",
       "test preparation course         0\n",
       "math score                      0\n",
       "reading score                   0\n",
       "writing score                  10\n",
       "dtype: int64"
      ]
     },
     "execution_count": 48,
     "metadata": {},
     "output_type": "execute_result"
    }
   ],
   "source": [
    "df.isnull().sum()"
   ]
  },
  {
   "attachments": {},
   "cell_type": "markdown",
   "id": "99fd90db",
   "metadata": {},
   "source": [
    "Let's check how many unique values ​​there are."
   ]
  },
  {
   "cell_type": "code",
   "execution_count": 57,
   "id": "92b537a6",
   "metadata": {},
   "outputs": [
    {
     "data": {
      "text/plain": [
       "array([\"bachelor's degree\", 'some college', \"master's degree\",\n",
       "       \"associate's degree\", 'high school', 'some high school', nan],\n",
       "      dtype=object)"
      ]
     },
     "execution_count": 57,
     "metadata": {},
     "output_type": "execute_result"
    }
   ],
   "source": [
    "df['parental level of education'].unique()"
   ]
  },
  {
   "cell_type": "code",
   "execution_count": 56,
   "id": "7c52b09d",
   "metadata": {},
   "outputs": [
    {
     "data": {
      "text/plain": [
       "array(['group B', 'group C', 'group A', 'group D', 'group E', nan],\n",
       "      dtype=object)"
      ]
     },
     "execution_count": 56,
     "metadata": {},
     "output_type": "execute_result"
    }
   ],
   "source": [
    "df['race/ethnicity'].unique()"
   ]
  },
  {
   "cell_type": "code",
   "execution_count": 49,
   "id": "03e54908",
   "metadata": {},
   "outputs": [
    {
     "data": {
      "text/plain": [
       "array(['none', 'completed'], dtype=object)"
      ]
     },
     "execution_count": 49,
     "metadata": {},
     "output_type": "execute_result"
    }
   ],
   "source": [
    "df['test preparation course'].unique()"
   ]
  },
  {
   "attachments": {},
   "cell_type": "markdown",
   "id": "c1386bd0-d7ab-40f1-b5c6-882a7148d167",
   "metadata": {},
   "source": [
    "## Pipeline Design"
   ]
  },
  {
   "attachments": {},
   "cell_type": "markdown",
   "id": "19af6709",
   "metadata": {},
   "source": [
    "Let's divide our data into train and test. Since there is little data, it makes more sense to set the test portion as 10 percent."
   ]
  },
  {
   "cell_type": "code",
   "execution_count": 49,
   "id": "46a9cf43",
   "metadata": {},
   "outputs": [],
   "source": [
    "X = df.drop('math score', axis=1)\n",
    "y = df['math score']\n",
    "X_train, X_test, y_train, y_test = train_test_split(X, y, test_size=0.1, random_state=55)"
   ]
  },
  {
   "attachments": {},
   "cell_type": "markdown",
   "id": "3a7a0da4",
   "metadata": {},
   "source": [
    "The first step is to fill in the missing values ​​with average values ​​using the ```SimpleImputer``` object. \n",
    "\n",
    "The second step is scaling numeric values ​​using the ```StandardScaler``` object. This allows the different numeric columns in the dataset to be scaled and made comparable to each other. I created a pipeline by combining these process steps."
   ]
  },
  {
   "cell_type": "code",
   "execution_count": 50,
   "id": "86b7c486",
   "metadata": {},
   "outputs": [],
   "source": [
    "numeric_transformer = Pipeline(steps=[\n",
    "    ('imputer', SimpleImputer(strategy='mean')),\n",
    "    ('scaler', StandardScaler())\n",
    "])"
   ]
  },
  {
   "attachments": {},
   "cell_type": "markdown",
   "id": "487ab9b7",
   "metadata": {},
   "source": [
    "In this pipeline, I filled the missing values ​​with the help of ```SimpleImputer``` using the most repetitive word.\n",
    "\n",
    "Then I installed the pipeline that will label the two columns in the ordinal structure as I want with ```OrdinalEncoder```."
   ]
  },
  {
   "cell_type": "code",
   "execution_count": 59,
   "id": "81ca3d52",
   "metadata": {},
   "outputs": [],
   "source": [
    "race_cat = [\"group E\", \"group D\", \"group C\", \"group B\",\"group A\"] #0,1,2,3,4\n",
    "parent_cat = [\"some high school\",\"high school\",\"some college\",\"associate's degree\",\"bachelor's degree\",\"master's degree\"] #0,1,2,3,4,5\n",
    "categorical_transformer = Pipeline(steps=[\n",
    "    ('imputer', SimpleImputer(strategy='most_frequent')),\n",
    "    ('encoder', OrdinalEncoder(categories=[race_cat, parent_cat]))\n",
    "])"
   ]
  },
  {
   "attachments": {},
   "cell_type": "markdown",
   "id": "838f464e",
   "metadata": {},
   "source": [
    "I did the same thing this time using ```OneHotEncoder``` for columns with only two different categories. I added the ```'drop='``` statement to avoid falling into the dummy trap."
   ]
  },
  {
   "cell_type": "code",
   "execution_count": 52,
   "id": "7b194810",
   "metadata": {},
   "outputs": [],
   "source": [
    "onehot_transformer = Pipeline(steps=[\n",
    "    ('imputer', SimpleImputer(strategy='most_frequent')),\n",
    "    ('encoder', OneHotEncoder(drop='if_binary'))\n",
    "])"
   ]
  },
  {
   "attachments": {},
   "cell_type": "markdown",
   "id": "a4fb00c8",
   "metadata": {},
   "source": [
    "I connected these 3 pipelines that I built using ```ColumnTransformer``` in order.\n",
    "\n",
    "In this way, I can do whatever I want on the column I want."
   ]
  },
  {
   "cell_type": "code",
   "execution_count": 60,
   "id": "71060175",
   "metadata": {},
   "outputs": [],
   "source": [
    "preprocessor = ColumnTransformer(\n",
    "    transformers=[\n",
    "        ('num', numeric_transformer, ['reading score', 'writing score']),\n",
    "        ('cat', categorical_transformer, ['race/ethnicity', 'parental level of education']),\n",
    "        ('onehot', onehot_transformer, ['gender', 'lunch', 'test preparation course'])\n",
    "    ])"
   ]
  },
  {
   "attachments": {},
   "cell_type": "markdown",
   "id": "3433e8c9",
   "metadata": {},
   "source": [
    "Finally, I connected the ```ColumnTransformer``` structure that I created, called preprocessor, to ```RandomForestRegressor()``` with the pipeline to build our model."
   ]
  },
  {
   "cell_type": "code",
   "execution_count": 61,
   "id": "451169d4",
   "metadata": {},
   "outputs": [],
   "source": [
    "model = Pipeline(steps=[('preprocessor', preprocessor),\n",
    "                        ('classifier', RandomForestRegressor())])"
   ]
  },
  {
   "attachments": {},
   "cell_type": "markdown",
   "id": "ffcd4f5b",
   "metadata": {},
   "source": [
    "I'm fit with this pipeline where I set up ```X_train``` and ```y_train```. You can see the detail of the structure I installed in the image."
   ]
  },
  {
   "cell_type": "code",
   "execution_count": 62,
   "id": "601c1fc6",
   "metadata": {},
   "outputs": [
    {
     "data": {
      "text/html": [
       "<style>#sk-container-id-3 {color: black;background-color: white;}#sk-container-id-3 pre{padding: 0;}#sk-container-id-3 div.sk-toggleable {background-color: white;}#sk-container-id-3 label.sk-toggleable__label {cursor: pointer;display: block;width: 100%;margin-bottom: 0;padding: 0.3em;box-sizing: border-box;text-align: center;}#sk-container-id-3 label.sk-toggleable__label-arrow:before {content: \"▸\";float: left;margin-right: 0.25em;color: #696969;}#sk-container-id-3 label.sk-toggleable__label-arrow:hover:before {color: black;}#sk-container-id-3 div.sk-estimator:hover label.sk-toggleable__label-arrow:before {color: black;}#sk-container-id-3 div.sk-toggleable__content {max-height: 0;max-width: 0;overflow: hidden;text-align: left;background-color: #f0f8ff;}#sk-container-id-3 div.sk-toggleable__content pre {margin: 0.2em;color: black;border-radius: 0.25em;background-color: #f0f8ff;}#sk-container-id-3 input.sk-toggleable__control:checked~div.sk-toggleable__content {max-height: 200px;max-width: 100%;overflow: auto;}#sk-container-id-3 input.sk-toggleable__control:checked~label.sk-toggleable__label-arrow:before {content: \"▾\";}#sk-container-id-3 div.sk-estimator input.sk-toggleable__control:checked~label.sk-toggleable__label {background-color: #d4ebff;}#sk-container-id-3 div.sk-label input.sk-toggleable__control:checked~label.sk-toggleable__label {background-color: #d4ebff;}#sk-container-id-3 input.sk-hidden--visually {border: 0;clip: rect(1px 1px 1px 1px);clip: rect(1px, 1px, 1px, 1px);height: 1px;margin: -1px;overflow: hidden;padding: 0;position: absolute;width: 1px;}#sk-container-id-3 div.sk-estimator {font-family: monospace;background-color: #f0f8ff;border: 1px dotted black;border-radius: 0.25em;box-sizing: border-box;margin-bottom: 0.5em;}#sk-container-id-3 div.sk-estimator:hover {background-color: #d4ebff;}#sk-container-id-3 div.sk-parallel-item::after {content: \"\";width: 100%;border-bottom: 1px solid gray;flex-grow: 1;}#sk-container-id-3 div.sk-label:hover label.sk-toggleable__label {background-color: #d4ebff;}#sk-container-id-3 div.sk-serial::before {content: \"\";position: absolute;border-left: 1px solid gray;box-sizing: border-box;top: 0;bottom: 0;left: 50%;z-index: 0;}#sk-container-id-3 div.sk-serial {display: flex;flex-direction: column;align-items: center;background-color: white;padding-right: 0.2em;padding-left: 0.2em;position: relative;}#sk-container-id-3 div.sk-item {position: relative;z-index: 1;}#sk-container-id-3 div.sk-parallel {display: flex;align-items: stretch;justify-content: center;background-color: white;position: relative;}#sk-container-id-3 div.sk-item::before, #sk-container-id-3 div.sk-parallel-item::before {content: \"\";position: absolute;border-left: 1px solid gray;box-sizing: border-box;top: 0;bottom: 0;left: 50%;z-index: -1;}#sk-container-id-3 div.sk-parallel-item {display: flex;flex-direction: column;z-index: 1;position: relative;background-color: white;}#sk-container-id-3 div.sk-parallel-item:first-child::after {align-self: flex-end;width: 50%;}#sk-container-id-3 div.sk-parallel-item:last-child::after {align-self: flex-start;width: 50%;}#sk-container-id-3 div.sk-parallel-item:only-child::after {width: 0;}#sk-container-id-3 div.sk-dashed-wrapped {border: 1px dashed gray;margin: 0 0.4em 0.5em 0.4em;box-sizing: border-box;padding-bottom: 0.4em;background-color: white;}#sk-container-id-3 div.sk-label label {font-family: monospace;font-weight: bold;display: inline-block;line-height: 1.2em;}#sk-container-id-3 div.sk-label-container {text-align: center;}#sk-container-id-3 div.sk-container {/* jupyter's `normalize.less` sets `[hidden] { display: none; }` but bootstrap.min.css set `[hidden] { display: none !important; }` so we also need the `!important` here to be able to override the default hidden behavior on the sphinx rendered scikit-learn.org. See: https://github.com/scikit-learn/scikit-learn/issues/21755 */display: inline-block !important;position: relative;}#sk-container-id-3 div.sk-text-repr-fallback {display: none;}</style><div id=\"sk-container-id-3\" class=\"sk-top-container\"><div class=\"sk-text-repr-fallback\"><pre>Pipeline(steps=[(&#x27;preprocessor&#x27;,\n",
       "                 ColumnTransformer(transformers=[(&#x27;num&#x27;,\n",
       "                                                  Pipeline(steps=[(&#x27;imputer&#x27;,\n",
       "                                                                   SimpleImputer()),\n",
       "                                                                  (&#x27;scaler&#x27;,\n",
       "                                                                   StandardScaler())]),\n",
       "                                                  [&#x27;reading score&#x27;,\n",
       "                                                   &#x27;writing score&#x27;]),\n",
       "                                                 (&#x27;cat&#x27;,\n",
       "                                                  Pipeline(steps=[(&#x27;imputer&#x27;,\n",
       "                                                                   SimpleImputer(strategy=&#x27;most_frequent&#x27;)),\n",
       "                                                                  (&#x27;encoder&#x27;,\n",
       "                                                                   OrdinalEncoder(categories=[[&#x27;group &#x27;\n",
       "                                                                                               &#x27;E&#x27;,\n",
       "                                                                                               &#x27;group &#x27;\n",
       "                                                                                               &#x27;D&#x27;,\n",
       "                                                                                               &#x27;group &#x27;\n",
       "                                                                                               &#x27;C&#x27;,\n",
       "                                                                                               &#x27;group &#x27;\n",
       "                                                                                               &#x27;B&#x27;,\n",
       "                                                                                               &#x27;group &#x27;\n",
       "                                                                                               &#x27;A&#x27;],\n",
       "                                                                                              [&#x27;...\n",
       "                                                                                               &#x27;school&#x27;,\n",
       "                                                                                               &#x27;some &#x27;\n",
       "                                                                                               &#x27;college&#x27;,\n",
       "                                                                                               &quot;associate&#x27;s &quot;\n",
       "                                                                                               &#x27;degree&#x27;,\n",
       "                                                                                               &quot;bachelor&#x27;s &quot;\n",
       "                                                                                               &#x27;degree&#x27;,\n",
       "                                                                                               &quot;master&#x27;s &quot;\n",
       "                                                                                               &#x27;degree&#x27;]]))]),\n",
       "                                                  [&#x27;race/ethnicity&#x27;,\n",
       "                                                   &#x27;parental level of &#x27;\n",
       "                                                   &#x27;education&#x27;]),\n",
       "                                                 (&#x27;onehot&#x27;,\n",
       "                                                  Pipeline(steps=[(&#x27;imputer&#x27;,\n",
       "                                                                   SimpleImputer(strategy=&#x27;most_frequent&#x27;)),\n",
       "                                                                  (&#x27;encoder&#x27;,\n",
       "                                                                   OneHotEncoder(drop=&#x27;if_binary&#x27;))]),\n",
       "                                                  [&#x27;gender&#x27;, &#x27;lunch&#x27;,\n",
       "                                                   &#x27;test preparation &#x27;\n",
       "                                                   &#x27;course&#x27;])])),\n",
       "                (&#x27;classifier&#x27;, RandomForestRegressor())])</pre><b>In a Jupyter environment, please rerun this cell to show the HTML representation or trust the notebook. <br />On GitHub, the HTML representation is unable to render, please try loading this page with nbviewer.org.</b></div><div class=\"sk-container\" hidden><div class=\"sk-item sk-dashed-wrapped\"><div class=\"sk-label-container\"><div class=\"sk-label sk-toggleable\"><input class=\"sk-toggleable__control sk-hidden--visually\" id=\"sk-estimator-id-25\" type=\"checkbox\" ><label for=\"sk-estimator-id-25\" class=\"sk-toggleable__label sk-toggleable__label-arrow\">Pipeline</label><div class=\"sk-toggleable__content\"><pre>Pipeline(steps=[(&#x27;preprocessor&#x27;,\n",
       "                 ColumnTransformer(transformers=[(&#x27;num&#x27;,\n",
       "                                                  Pipeline(steps=[(&#x27;imputer&#x27;,\n",
       "                                                                   SimpleImputer()),\n",
       "                                                                  (&#x27;scaler&#x27;,\n",
       "                                                                   StandardScaler())]),\n",
       "                                                  [&#x27;reading score&#x27;,\n",
       "                                                   &#x27;writing score&#x27;]),\n",
       "                                                 (&#x27;cat&#x27;,\n",
       "                                                  Pipeline(steps=[(&#x27;imputer&#x27;,\n",
       "                                                                   SimpleImputer(strategy=&#x27;most_frequent&#x27;)),\n",
       "                                                                  (&#x27;encoder&#x27;,\n",
       "                                                                   OrdinalEncoder(categories=[[&#x27;group &#x27;\n",
       "                                                                                               &#x27;E&#x27;,\n",
       "                                                                                               &#x27;group &#x27;\n",
       "                                                                                               &#x27;D&#x27;,\n",
       "                                                                                               &#x27;group &#x27;\n",
       "                                                                                               &#x27;C&#x27;,\n",
       "                                                                                               &#x27;group &#x27;\n",
       "                                                                                               &#x27;B&#x27;,\n",
       "                                                                                               &#x27;group &#x27;\n",
       "                                                                                               &#x27;A&#x27;],\n",
       "                                                                                              [&#x27;...\n",
       "                                                                                               &#x27;school&#x27;,\n",
       "                                                                                               &#x27;some &#x27;\n",
       "                                                                                               &#x27;college&#x27;,\n",
       "                                                                                               &quot;associate&#x27;s &quot;\n",
       "                                                                                               &#x27;degree&#x27;,\n",
       "                                                                                               &quot;bachelor&#x27;s &quot;\n",
       "                                                                                               &#x27;degree&#x27;,\n",
       "                                                                                               &quot;master&#x27;s &quot;\n",
       "                                                                                               &#x27;degree&#x27;]]))]),\n",
       "                                                  [&#x27;race/ethnicity&#x27;,\n",
       "                                                   &#x27;parental level of &#x27;\n",
       "                                                   &#x27;education&#x27;]),\n",
       "                                                 (&#x27;onehot&#x27;,\n",
       "                                                  Pipeline(steps=[(&#x27;imputer&#x27;,\n",
       "                                                                   SimpleImputer(strategy=&#x27;most_frequent&#x27;)),\n",
       "                                                                  (&#x27;encoder&#x27;,\n",
       "                                                                   OneHotEncoder(drop=&#x27;if_binary&#x27;))]),\n",
       "                                                  [&#x27;gender&#x27;, &#x27;lunch&#x27;,\n",
       "                                                   &#x27;test preparation &#x27;\n",
       "                                                   &#x27;course&#x27;])])),\n",
       "                (&#x27;classifier&#x27;, RandomForestRegressor())])</pre></div></div></div><div class=\"sk-serial\"><div class=\"sk-item sk-dashed-wrapped\"><div class=\"sk-label-container\"><div class=\"sk-label sk-toggleable\"><input class=\"sk-toggleable__control sk-hidden--visually\" id=\"sk-estimator-id-26\" type=\"checkbox\" ><label for=\"sk-estimator-id-26\" class=\"sk-toggleable__label sk-toggleable__label-arrow\">preprocessor: ColumnTransformer</label><div class=\"sk-toggleable__content\"><pre>ColumnTransformer(transformers=[(&#x27;num&#x27;,\n",
       "                                 Pipeline(steps=[(&#x27;imputer&#x27;, SimpleImputer()),\n",
       "                                                 (&#x27;scaler&#x27;, StandardScaler())]),\n",
       "                                 [&#x27;reading score&#x27;, &#x27;writing score&#x27;]),\n",
       "                                (&#x27;cat&#x27;,\n",
       "                                 Pipeline(steps=[(&#x27;imputer&#x27;,\n",
       "                                                  SimpleImputer(strategy=&#x27;most_frequent&#x27;)),\n",
       "                                                 (&#x27;encoder&#x27;,\n",
       "                                                  OrdinalEncoder(categories=[[&#x27;group &#x27;\n",
       "                                                                              &#x27;E&#x27;,\n",
       "                                                                              &#x27;group &#x27;\n",
       "                                                                              &#x27;D&#x27;,\n",
       "                                                                              &#x27;group &#x27;\n",
       "                                                                              &#x27;C&#x27;,\n",
       "                                                                              &#x27;group &#x27;\n",
       "                                                                              &#x27;B&#x27;,\n",
       "                                                                              &#x27;group &#x27;\n",
       "                                                                              &#x27;A&#x27;],\n",
       "                                                                             [&#x27;some &#x27;\n",
       "                                                                              &#x27;high &#x27;\n",
       "                                                                              &#x27;school&#x27;,\n",
       "                                                                              &#x27;high &#x27;\n",
       "                                                                              &#x27;school&#x27;,\n",
       "                                                                              &#x27;some &#x27;\n",
       "                                                                              &#x27;college&#x27;,\n",
       "                                                                              &quot;associate&#x27;s &quot;\n",
       "                                                                              &#x27;degree&#x27;,\n",
       "                                                                              &quot;bachelor&#x27;s &quot;\n",
       "                                                                              &#x27;degree&#x27;,\n",
       "                                                                              &quot;master&#x27;s &quot;\n",
       "                                                                              &#x27;degree&#x27;]]))]),\n",
       "                                 [&#x27;race/ethnicity&#x27;,\n",
       "                                  &#x27;parental level of education&#x27;]),\n",
       "                                (&#x27;onehot&#x27;,\n",
       "                                 Pipeline(steps=[(&#x27;imputer&#x27;,\n",
       "                                                  SimpleImputer(strategy=&#x27;most_frequent&#x27;)),\n",
       "                                                 (&#x27;encoder&#x27;,\n",
       "                                                  OneHotEncoder(drop=&#x27;if_binary&#x27;))]),\n",
       "                                 [&#x27;gender&#x27;, &#x27;lunch&#x27;,\n",
       "                                  &#x27;test preparation course&#x27;])])</pre></div></div></div><div class=\"sk-parallel\"><div class=\"sk-parallel-item\"><div class=\"sk-item\"><div class=\"sk-label-container\"><div class=\"sk-label sk-toggleable\"><input class=\"sk-toggleable__control sk-hidden--visually\" id=\"sk-estimator-id-27\" type=\"checkbox\" ><label for=\"sk-estimator-id-27\" class=\"sk-toggleable__label sk-toggleable__label-arrow\">num</label><div class=\"sk-toggleable__content\"><pre>[&#x27;reading score&#x27;, &#x27;writing score&#x27;]</pre></div></div></div><div class=\"sk-serial\"><div class=\"sk-item\"><div class=\"sk-serial\"><div class=\"sk-item\"><div class=\"sk-estimator sk-toggleable\"><input class=\"sk-toggleable__control sk-hidden--visually\" id=\"sk-estimator-id-28\" type=\"checkbox\" ><label for=\"sk-estimator-id-28\" class=\"sk-toggleable__label sk-toggleable__label-arrow\">SimpleImputer</label><div class=\"sk-toggleable__content\"><pre>SimpleImputer()</pre></div></div></div><div class=\"sk-item\"><div class=\"sk-estimator sk-toggleable\"><input class=\"sk-toggleable__control sk-hidden--visually\" id=\"sk-estimator-id-29\" type=\"checkbox\" ><label for=\"sk-estimator-id-29\" class=\"sk-toggleable__label sk-toggleable__label-arrow\">StandardScaler</label><div class=\"sk-toggleable__content\"><pre>StandardScaler()</pre></div></div></div></div></div></div></div></div><div class=\"sk-parallel-item\"><div class=\"sk-item\"><div class=\"sk-label-container\"><div class=\"sk-label sk-toggleable\"><input class=\"sk-toggleable__control sk-hidden--visually\" id=\"sk-estimator-id-30\" type=\"checkbox\" ><label for=\"sk-estimator-id-30\" class=\"sk-toggleable__label sk-toggleable__label-arrow\">cat</label><div class=\"sk-toggleable__content\"><pre>[&#x27;race/ethnicity&#x27;, &#x27;parental level of education&#x27;]</pre></div></div></div><div class=\"sk-serial\"><div class=\"sk-item\"><div class=\"sk-serial\"><div class=\"sk-item\"><div class=\"sk-estimator sk-toggleable\"><input class=\"sk-toggleable__control sk-hidden--visually\" id=\"sk-estimator-id-31\" type=\"checkbox\" ><label for=\"sk-estimator-id-31\" class=\"sk-toggleable__label sk-toggleable__label-arrow\">SimpleImputer</label><div class=\"sk-toggleable__content\"><pre>SimpleImputer(strategy=&#x27;most_frequent&#x27;)</pre></div></div></div><div class=\"sk-item\"><div class=\"sk-estimator sk-toggleable\"><input class=\"sk-toggleable__control sk-hidden--visually\" id=\"sk-estimator-id-32\" type=\"checkbox\" ><label for=\"sk-estimator-id-32\" class=\"sk-toggleable__label sk-toggleable__label-arrow\">OrdinalEncoder</label><div class=\"sk-toggleable__content\"><pre>OrdinalEncoder(categories=[[&#x27;group E&#x27;, &#x27;group D&#x27;, &#x27;group C&#x27;, &#x27;group B&#x27;,\n",
       "                            &#x27;group A&#x27;],\n",
       "                           [&#x27;some high school&#x27;, &#x27;high school&#x27;, &#x27;some college&#x27;,\n",
       "                            &quot;associate&#x27;s degree&quot;, &quot;bachelor&#x27;s degree&quot;,\n",
       "                            &quot;master&#x27;s degree&quot;]])</pre></div></div></div></div></div></div></div></div><div class=\"sk-parallel-item\"><div class=\"sk-item\"><div class=\"sk-label-container\"><div class=\"sk-label sk-toggleable\"><input class=\"sk-toggleable__control sk-hidden--visually\" id=\"sk-estimator-id-33\" type=\"checkbox\" ><label for=\"sk-estimator-id-33\" class=\"sk-toggleable__label sk-toggleable__label-arrow\">onehot</label><div class=\"sk-toggleable__content\"><pre>[&#x27;gender&#x27;, &#x27;lunch&#x27;, &#x27;test preparation course&#x27;]</pre></div></div></div><div class=\"sk-serial\"><div class=\"sk-item\"><div class=\"sk-serial\"><div class=\"sk-item\"><div class=\"sk-estimator sk-toggleable\"><input class=\"sk-toggleable__control sk-hidden--visually\" id=\"sk-estimator-id-34\" type=\"checkbox\" ><label for=\"sk-estimator-id-34\" class=\"sk-toggleable__label sk-toggleable__label-arrow\">SimpleImputer</label><div class=\"sk-toggleable__content\"><pre>SimpleImputer(strategy=&#x27;most_frequent&#x27;)</pre></div></div></div><div class=\"sk-item\"><div class=\"sk-estimator sk-toggleable\"><input class=\"sk-toggleable__control sk-hidden--visually\" id=\"sk-estimator-id-35\" type=\"checkbox\" ><label for=\"sk-estimator-id-35\" class=\"sk-toggleable__label sk-toggleable__label-arrow\">OneHotEncoder</label><div class=\"sk-toggleable__content\"><pre>OneHotEncoder(drop=&#x27;if_binary&#x27;)</pre></div></div></div></div></div></div></div></div></div></div><div class=\"sk-item\"><div class=\"sk-estimator sk-toggleable\"><input class=\"sk-toggleable__control sk-hidden--visually\" id=\"sk-estimator-id-36\" type=\"checkbox\" ><label for=\"sk-estimator-id-36\" class=\"sk-toggleable__label sk-toggleable__label-arrow\">RandomForestRegressor</label><div class=\"sk-toggleable__content\"><pre>RandomForestRegressor()</pre></div></div></div></div></div></div></div>"
      ],
      "text/plain": [
       "Pipeline(steps=[('preprocessor',\n",
       "                 ColumnTransformer(transformers=[('num',\n",
       "                                                  Pipeline(steps=[('imputer',\n",
       "                                                                   SimpleImputer()),\n",
       "                                                                  ('scaler',\n",
       "                                                                   StandardScaler())]),\n",
       "                                                  ['reading score',\n",
       "                                                   'writing score']),\n",
       "                                                 ('cat',\n",
       "                                                  Pipeline(steps=[('imputer',\n",
       "                                                                   SimpleImputer(strategy='most_frequent')),\n",
       "                                                                  ('encoder',\n",
       "                                                                   OrdinalEncoder(categories=[['group '\n",
       "                                                                                               'E',\n",
       "                                                                                               'group '\n",
       "                                                                                               'D',\n",
       "                                                                                               'group '\n",
       "                                                                                               'C',\n",
       "                                                                                               'group '\n",
       "                                                                                               'B',\n",
       "                                                                                               'group '\n",
       "                                                                                               'A'],\n",
       "                                                                                              ['...\n",
       "                                                                                               'school',\n",
       "                                                                                               'some '\n",
       "                                                                                               'college',\n",
       "                                                                                               \"associate's \"\n",
       "                                                                                               'degree',\n",
       "                                                                                               \"bachelor's \"\n",
       "                                                                                               'degree',\n",
       "                                                                                               \"master's \"\n",
       "                                                                                               'degree']]))]),\n",
       "                                                  ['race/ethnicity',\n",
       "                                                   'parental level of '\n",
       "                                                   'education']),\n",
       "                                                 ('onehot',\n",
       "                                                  Pipeline(steps=[('imputer',\n",
       "                                                                   SimpleImputer(strategy='most_frequent')),\n",
       "                                                                  ('encoder',\n",
       "                                                                   OneHotEncoder(drop='if_binary'))]),\n",
       "                                                  ['gender', 'lunch',\n",
       "                                                   'test preparation '\n",
       "                                                   'course'])])),\n",
       "                ('classifier', RandomForestRegressor())])"
      ]
     },
     "execution_count": 62,
     "metadata": {},
     "output_type": "execute_result"
    }
   ],
   "source": [
    "model.fit(X_train, y_train)"
   ]
  },
  {
   "attachments": {},
   "cell_type": "markdown",
   "id": "cfbe4425-577b-4b7f-9980-2e65e0c9a262",
   "metadata": {},
   "source": [
    "## Pipeline Results\n",
    "\n",
    "My code has become much more organized and ready thanks to this pipeline that I have established rather than the crowd of processing each column one by one.\n",
    "\n",
    "The R2 value represents the percentage that the independent variables explain the variability in the dependent variable, and the closer it is to 1, the better the model will perform. An R2 value of 0.87 is a fairly high value and indicates that the model explains the effect of the independent variables on the target variable well.\n",
    "\n",
    "The MSE value measures how far the predictions deviate from the true values, and the closer to 0, the better the model will perform. An MSE of 31.5 is also quite low, showing that the model's predictions are close to the true values.\n",
    "\n",
    "In this context, the values ​​given indicate that the model performs quite well."
   ]
  },
  {
   "cell_type": "code",
   "execution_count": 63,
   "id": "75180ced",
   "metadata": {},
   "outputs": [
    {
     "name": "stdout",
     "output_type": "stream",
     "text": [
      "R2 Score: 0.8736363563922251\n",
      "MSE score: 31.528373534722217\n"
     ]
    }
   ],
   "source": [
    "y_pred=model.predict(X_test)\n",
    "print('R2 Score:',r2_score(y_test, y_pred))\n",
    "print('MSE score:',mean_squared_error(y_test, y_pred))"
   ]
  }
 ],
 "metadata": {
  "kernelspec": {
   "display_name": "Python 3 (ipykernel)",
   "language": "python",
   "name": "python3"
  },
  "language_info": {
   "codemirror_mode": {
    "name": "ipython",
    "version": 3
   },
   "file_extension": ".py",
   "mimetype": "text/x-python",
   "name": "python",
   "nbconvert_exporter": "python",
   "pygments_lexer": "ipython3",
   "version": "3.11.1"
  }
 },
 "nbformat": 4,
 "nbformat_minor": 5
}
